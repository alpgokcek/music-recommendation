{
  "nbformat": 4,
  "nbformat_minor": 0,
  "metadata": {
    "colab": {
      "name": "main.ipynb",
      "provenance": [],
      "authorship_tag": "ABX9TyMmnqgTHTt3ubwrRpSpYnRT",
      "include_colab_link": true
    },
    "kernelspec": {
      "name": "python3",
      "display_name": "Python 3"
    },
    "language_info": {
      "name": "python"
    }
  },
  "cells": [
    {
      "cell_type": "markdown",
      "metadata": {
        "id": "view-in-github",
        "colab_type": "text"
      },
      "source": [
        "<a href=\"https://colab.research.google.com/github/alpgokcek/music-recommendation/blob/main/main.ipynb\" target=\"_parent\"><img src=\"https://colab.research.google.com/assets/colab-badge.svg\" alt=\"Open In Colab\"/></a>"
      ]
    },
    {
      "cell_type": "code",
      "metadata": {
        "colab": {
          "base_uri": "https://localhost:8080/"
        },
        "id": "flGFyCFLs-kG",
        "outputId": "52880a07-b719-4450-b098-8bea826ca5e7"
      },
      "source": [
        "from google.colab import drive\n",
        "drive.mount('/content/drive')"
      ],
      "execution_count": 1,
      "outputs": [
        {
          "output_type": "stream",
          "text": [
            "Mounted at /content/drive\n"
          ],
          "name": "stdout"
        }
      ]
    },
    {
      "cell_type": "code",
      "metadata": {
        "id": "PB89KVTkbwyD"
      },
      "source": [
        "import pandas as pd\n",
        "import numpy as np\n",
        "from numpy import dot\n",
        "from numpy.linalg import norm"
      ],
      "execution_count": 32,
      "outputs": []
    },
    {
      "cell_type": "markdown",
      "metadata": {
        "id": "bwBBeryw-dBQ"
      },
      "source": [
        "# **Importing the dataset and extracting features**\n",
        "In this part, the aim is to import the dataset and extract the features in it."
      ]
    },
    {
      "cell_type": "code",
      "metadata": {
        "id": "lyAHd1EbeLyb"
      },
      "source": [
        "DATASET_PATH = '/content/drive/MyDrive/datasets/data.csv'\n",
        "data_df = pd.read_csv(DATASET_PATH)"
      ],
      "execution_count": 4,
      "outputs": []
    },
    {
      "cell_type": "code",
      "metadata": {
        "colab": {
          "base_uri": "https://localhost:8080/",
          "height": 411
        },
        "id": "2GMe9XW5prQk",
        "outputId": "411711ad-4ff4-4e2a-844a-9a5735f367a5"
      },
      "source": [
        "data_df.head()"
      ],
      "execution_count": 6,
      "outputs": [
        {
          "output_type": "execute_result",
          "data": {
            "text/html": [
              "<div>\n",
              "<style scoped>\n",
              "    .dataframe tbody tr th:only-of-type {\n",
              "        vertical-align: middle;\n",
              "    }\n",
              "\n",
              "    .dataframe tbody tr th {\n",
              "        vertical-align: top;\n",
              "    }\n",
              "\n",
              "    .dataframe thead th {\n",
              "        text-align: right;\n",
              "    }\n",
              "</style>\n",
              "<table border=\"1\" class=\"dataframe\">\n",
              "  <thead>\n",
              "    <tr style=\"text-align: right;\">\n",
              "      <th></th>\n",
              "      <th>acousticness</th>\n",
              "      <th>artists</th>\n",
              "      <th>danceability</th>\n",
              "      <th>duration_ms</th>\n",
              "      <th>energy</th>\n",
              "      <th>explicit</th>\n",
              "      <th>id</th>\n",
              "      <th>instrumentalness</th>\n",
              "      <th>key</th>\n",
              "      <th>liveness</th>\n",
              "      <th>loudness</th>\n",
              "      <th>mode</th>\n",
              "      <th>name</th>\n",
              "      <th>popularity</th>\n",
              "      <th>release_date</th>\n",
              "      <th>speechiness</th>\n",
              "      <th>tempo</th>\n",
              "      <th>valence</th>\n",
              "      <th>year</th>\n",
              "    </tr>\n",
              "  </thead>\n",
              "  <tbody>\n",
              "    <tr>\n",
              "      <th>0</th>\n",
              "      <td>0.991000</td>\n",
              "      <td>['Mamie Smith']</td>\n",
              "      <td>0.598</td>\n",
              "      <td>168333</td>\n",
              "      <td>0.224</td>\n",
              "      <td>0</td>\n",
              "      <td>0cS0A1fUEUd1EW3FcF8AEI</td>\n",
              "      <td>0.000522</td>\n",
              "      <td>5</td>\n",
              "      <td>0.3790</td>\n",
              "      <td>-12.628</td>\n",
              "      <td>0</td>\n",
              "      <td>Keep A Song In Your Soul</td>\n",
              "      <td>12</td>\n",
              "      <td>1920</td>\n",
              "      <td>0.0936</td>\n",
              "      <td>149.976</td>\n",
              "      <td>0.6340</td>\n",
              "      <td>1920</td>\n",
              "    </tr>\n",
              "    <tr>\n",
              "      <th>1</th>\n",
              "      <td>0.643000</td>\n",
              "      <td>[\"Screamin' Jay Hawkins\"]</td>\n",
              "      <td>0.852</td>\n",
              "      <td>150200</td>\n",
              "      <td>0.517</td>\n",
              "      <td>0</td>\n",
              "      <td>0hbkKFIJm7Z05H8Zl9w30f</td>\n",
              "      <td>0.026400</td>\n",
              "      <td>5</td>\n",
              "      <td>0.0809</td>\n",
              "      <td>-7.261</td>\n",
              "      <td>0</td>\n",
              "      <td>I Put A Spell On You</td>\n",
              "      <td>7</td>\n",
              "      <td>1920-01-05</td>\n",
              "      <td>0.0534</td>\n",
              "      <td>86.889</td>\n",
              "      <td>0.9500</td>\n",
              "      <td>1920</td>\n",
              "    </tr>\n",
              "    <tr>\n",
              "      <th>2</th>\n",
              "      <td>0.993000</td>\n",
              "      <td>['Mamie Smith']</td>\n",
              "      <td>0.647</td>\n",
              "      <td>163827</td>\n",
              "      <td>0.186</td>\n",
              "      <td>0</td>\n",
              "      <td>11m7laMUgmOKqI3oYzuhne</td>\n",
              "      <td>0.000018</td>\n",
              "      <td>0</td>\n",
              "      <td>0.5190</td>\n",
              "      <td>-12.098</td>\n",
              "      <td>1</td>\n",
              "      <td>Golfing Papa</td>\n",
              "      <td>4</td>\n",
              "      <td>1920</td>\n",
              "      <td>0.1740</td>\n",
              "      <td>97.600</td>\n",
              "      <td>0.6890</td>\n",
              "      <td>1920</td>\n",
              "    </tr>\n",
              "    <tr>\n",
              "      <th>3</th>\n",
              "      <td>0.000173</td>\n",
              "      <td>['Oscar Velazquez']</td>\n",
              "      <td>0.730</td>\n",
              "      <td>422087</td>\n",
              "      <td>0.798</td>\n",
              "      <td>0</td>\n",
              "      <td>19Lc5SfJJ5O1oaxY0fpwfh</td>\n",
              "      <td>0.801000</td>\n",
              "      <td>2</td>\n",
              "      <td>0.1280</td>\n",
              "      <td>-7.311</td>\n",
              "      <td>1</td>\n",
              "      <td>True House Music - Xavier Santos &amp; Carlos Gomi...</td>\n",
              "      <td>17</td>\n",
              "      <td>1920-01-01</td>\n",
              "      <td>0.0425</td>\n",
              "      <td>127.997</td>\n",
              "      <td>0.0422</td>\n",
              "      <td>1920</td>\n",
              "    </tr>\n",
              "    <tr>\n",
              "      <th>4</th>\n",
              "      <td>0.295000</td>\n",
              "      <td>['Mixe']</td>\n",
              "      <td>0.704</td>\n",
              "      <td>165224</td>\n",
              "      <td>0.707</td>\n",
              "      <td>1</td>\n",
              "      <td>2hJjbsLCytGsnAHfdsLejp</td>\n",
              "      <td>0.000246</td>\n",
              "      <td>10</td>\n",
              "      <td>0.4020</td>\n",
              "      <td>-6.036</td>\n",
              "      <td>0</td>\n",
              "      <td>Xuniverxe</td>\n",
              "      <td>2</td>\n",
              "      <td>1920-10-01</td>\n",
              "      <td>0.0768</td>\n",
              "      <td>122.076</td>\n",
              "      <td>0.2990</td>\n",
              "      <td>1920</td>\n",
              "    </tr>\n",
              "  </tbody>\n",
              "</table>\n",
              "</div>"
            ],
            "text/plain": [
              "   acousticness                    artists  ...  valence  year\n",
              "0      0.991000            ['Mamie Smith']  ...   0.6340  1920\n",
              "1      0.643000  [\"Screamin' Jay Hawkins\"]  ...   0.9500  1920\n",
              "2      0.993000            ['Mamie Smith']  ...   0.6890  1920\n",
              "3      0.000173        ['Oscar Velazquez']  ...   0.0422  1920\n",
              "4      0.295000                   ['Mixe']  ...   0.2990  1920\n",
              "\n",
              "[5 rows x 19 columns]"
            ]
          },
          "metadata": {
            "tags": []
          },
          "execution_count": 6
        }
      ]
    },
    {
      "cell_type": "code",
      "metadata": {
        "id": "w8xChknpp_oD"
      },
      "source": [
        "features = data_df.drop(labels=['artists', 'id', 'name', 'year', 'release_date'], axis=1).to_numpy()"
      ],
      "execution_count": 9,
      "outputs": []
    },
    {
      "cell_type": "code",
      "metadata": {
        "colab": {
          "base_uri": "https://localhost:8080/"
        },
        "id": "ZevWHMyIsaZv",
        "outputId": "052bb559-4c9d-4991-d52b-2d30b23c0ada"
      },
      "source": [
        "features[:5]"
      ],
      "execution_count": 15,
      "outputs": [
        {
          "output_type": "execute_result",
          "data": {
            "text/plain": [
              "array([[ 9.91000e-01,  5.98000e-01,  1.68333e+05,  2.24000e-01,\n",
              "         0.00000e+00,  5.22000e-04,  5.00000e+00,  3.79000e-01,\n",
              "        -1.26280e+01,  0.00000e+00,  1.20000e+01,  9.36000e-02,\n",
              "         1.49976e+02,  6.34000e-01],\n",
              "       [ 6.43000e-01,  8.52000e-01,  1.50200e+05,  5.17000e-01,\n",
              "         0.00000e+00,  2.64000e-02,  5.00000e+00,  8.09000e-02,\n",
              "        -7.26100e+00,  0.00000e+00,  7.00000e+00,  5.34000e-02,\n",
              "         8.68890e+01,  9.50000e-01],\n",
              "       [ 9.93000e-01,  6.47000e-01,  1.63827e+05,  1.86000e-01,\n",
              "         0.00000e+00,  1.76000e-05,  0.00000e+00,  5.19000e-01,\n",
              "        -1.20980e+01,  1.00000e+00,  4.00000e+00,  1.74000e-01,\n",
              "         9.76000e+01,  6.89000e-01],\n",
              "       [ 1.73000e-04,  7.30000e-01,  4.22087e+05,  7.98000e-01,\n",
              "         0.00000e+00,  8.01000e-01,  2.00000e+00,  1.28000e-01,\n",
              "        -7.31100e+00,  1.00000e+00,  1.70000e+01,  4.25000e-02,\n",
              "         1.27997e+02,  4.22000e-02],\n",
              "       [ 2.95000e-01,  7.04000e-01,  1.65224e+05,  7.07000e-01,\n",
              "         1.00000e+00,  2.46000e-04,  1.00000e+01,  4.02000e-01,\n",
              "        -6.03600e+00,  0.00000e+00,  2.00000e+00,  7.68000e-02,\n",
              "         1.22076e+02,  2.99000e-01]])"
            ]
          },
          "metadata": {
            "tags": []
          },
          "execution_count": 15
        }
      ]
    },
    {
      "cell_type": "code",
      "metadata": {
        "id": "QPazfDn-qwPY"
      },
      "source": [
        "features.shape"
      ],
      "execution_count": null,
      "outputs": []
    },
    {
      "cell_type": "markdown",
      "metadata": {
        "id": "YQAlLUF0-J_l"
      },
      "source": [
        "# **Normalizing the features of the dataset.**\n",
        "In this part, the aim is to normalize the features using standard score formula."
      ]
    },
    {
      "cell_type": "code",
      "metadata": {
        "id": "P4cNDtS6pvBy"
      },
      "source": [
        "def normalize_features(arr):\n",
        "  # standard score\n",
        "  cols_mean, cols_stdev = arr.mean(axis=0), arr.std(axis=0)\n",
        "  output = (arr - cols_mean) / cols_stdev\n",
        "  return output"
      ],
      "execution_count": 51,
      "outputs": []
    },
    {
      "cell_type": "code",
      "metadata": {
        "id": "8nZGegWY-xe1"
      },
      "source": [
        "normalized_features = normalize_features(features)"
      ],
      "execution_count": 28,
      "outputs": []
    },
    {
      "cell_type": "markdown",
      "metadata": {
        "id": "JS126Cnh_00c"
      },
      "source": [
        "# **Importing the user input.**\n",
        "In this part, the aim is to import the user input."
      ]
    },
    {
      "cell_type": "code",
      "metadata": {
        "id": "tIZCythH_0VK"
      },
      "source": [
        "import json\n",
        "USER_INPUT = '/content/drive/MyDrive/datasets/mood-pop.json' # '/content/drive/MyDrive/datasets/Oldies-but-Goldies--00's.json'"
      ],
      "execution_count": 29,
      "outputs": []
    },
    {
      "cell_type": "code",
      "metadata": {
        "id": "rwf25404Q0C0"
      },
      "source": [
        "user_favorites_ids = None\n",
        "with open(USER_INPUT, 'r') as f:\n",
        "  user_favorites_ids = json.load(f)"
      ],
      "execution_count": 33,
      "outputs": []
    },
    {
      "cell_type": "code",
      "metadata": {
        "id": "Y04tMtaJSJFJ"
      },
      "source": [
        "user_favorites = []\n",
        "for idx in user_favorites_ids['trackIds']:\n",
        "  track = normalized_features[data_df['id'].str.contains(idx, na=False)]\n",
        "  if len(track) > 0:\n",
        "    user_favorites.append(track)\n",
        "user_favorites = np.array(user_favorites)"
      ],
      "execution_count": 84,
      "outputs": []
    },
    {
      "cell_type": "markdown",
      "metadata": {
        "id": "wIMDNjXc_NkV"
      },
      "source": [
        "# **Preprocessing and labelling the data.**\n",
        "In this part, the aim is to label the data by preprocessing it."
      ]
    },
    {
      "cell_type": "code",
      "metadata": {
        "id": "rywBksRF_XSK"
      },
      "source": [
        "# preprocess the data and extract the data"
      ],
      "execution_count": null,
      "outputs": []
    },
    {
      "cell_type": "code",
      "metadata": {
        "colab": {
          "base_uri": "https://localhost:8080/"
        },
        "id": "meLoC48cSBoH",
        "outputId": "c59dc02c-d5a9-40d0-d92f-1dec24afcab2"
      },
      "source": [
        "fav_mean = user_favorites.mean(axis=0)\n",
        "fav_mean.reshape(14,1)"
      ],
      "execution_count": 85,
      "outputs": [
        {
          "output_type": "execute_result",
          "data": {
            "text/plain": [
              "array([[-0.94057154],\n",
              "       [ 0.70392987],\n",
              "       [-0.17584712],\n",
              "       [ 1.07112412],\n",
              "       [ 0.25874655],\n",
              "       [-0.58954557],\n",
              "       [ 0.35851628],\n",
              "       [-0.30688203],\n",
              "       [ 1.28155487],\n",
              "       [-0.80717956],\n",
              "       [ 2.37312602],\n",
              "       [-0.11296621],\n",
              "       [ 0.24161251],\n",
              "       [ 0.15099279]])"
            ]
          },
          "metadata": {
            "tags": []
          },
          "execution_count": 85
        }
      ]
    },
    {
      "cell_type": "code",
      "metadata": {
        "id": "DtKd3GFVWZSx"
      },
      "source": [
        "cosine_similarities = [dot(fav_mean, sample)/(norm(fav_mean)*norm(sample)) for sample in normalized_features]"
      ],
      "execution_count": 88,
      "outputs": []
    },
    {
      "cell_type": "code",
      "metadata": {
        "colab": {
          "base_uri": "https://localhost:8080/"
        },
        "id": "v4XZ_MQgW9cX",
        "outputId": "9908f028-977c-405a-9ab2-5167cd3f1beb"
      },
      "source": [
        "zipped = zip(cosine_similarities, normalized_features)\n",
        "sorted(zipped, reverse=True, key = lambda x: x[0])[:5]\n"
      ],
      "execution_count": 109,
      "outputs": [
        {
          "output_type": "execute_result",
          "data": {
            "text/plain": [
              "[(array([0.96300016]),\n",
              "  array([-1.06473145,  0.85921106, -0.27820296,  1.46058492, -0.27040128,\n",
              "         -0.589564  ,  0.51010543, -0.72425926,  1.20561806, -1.53623943,\n",
              "          2.62000938, -0.32003343,  0.19853514,  0.57648818])),\n",
              " (array([0.96166938]),\n",
              "  array([-1.22502214,  0.71718558, -0.08093266,  1.38724013, -0.27040128,\n",
              "         -0.589564  ,  0.51010543, -0.71539461,  1.46758423, -1.53623943,\n",
              "          2.39141367,  0.01794592,  0.09772233,  0.48952378])),\n",
              " (array([0.95574557]),\n",
              "  array([-1.28450603,  1.18871018, -0.22747362,  1.03518517, -0.27040128,\n",
              "         -0.589564  ,  0.22587578, -0.6511259 ,  1.28977755, -1.53623943,\n",
              "          2.9857625 , -0.03527486, -0.09792063,  0.80335183])),\n",
              " (array([0.95316632]),\n",
              "  array([-1.28450603,  1.18871018, -0.22747362,  1.03518517, -0.27040128,\n",
              "         -0.589564  ,  0.22587578, -0.6511259 ,  1.28977755, -1.53623943,\n",
              "          2.80288594, -0.03527486, -0.09792063,  0.80335183])),\n",
              " (array([0.95305594]),\n",
              "  array([-1.26529221,  0.56379806, -0.09277265,  1.21854713, -0.27040128,\n",
              "         -0.589564  , -0.05835388, -0.26662175,  1.16889711, -1.53623943,\n",
              "          2.34569453, -0.26132598,  0.20018781,  0.42146468]))]"
            ]
          },
          "metadata": {
            "tags": []
          },
          "execution_count": 109
        }
      ]
    },
    {
      "cell_type": "markdown",
      "metadata": {
        "id": "qgS1qr78-5Ug"
      },
      "source": [
        "# **Naive Bayes Classifier**\n",
        "Simple implementation of the Naive Bayes Classifier."
      ]
    },
    {
      "cell_type": "code",
      "metadata": {
        "id": "kwnzCH1b6w0e"
      },
      "source": [
        "def naive_bayes(self, samples, labels):\n",
        "    classes = np.unique(labels)\n",
        "    n_classes, n_samples, n_features = len(classes), samples.shape\n",
        "\n",
        "    mean = np.zeros((n_classes, n_features), dtype=np.float64)\n",
        "    var = np.zeros((n_classes, n_features), dtype=np.float64)\n",
        "    priors = np.zeros(n_classes, dtype=np.float64)\n",
        "\n",
        "    for idx, c in enumerate(classes):\n",
        "        samples_c = samples[labels == c]\n",
        "        mean[idx, :] = samples_c.mean(axis=0)\n",
        "        var[idx, :] = samples_c.var(axis=0)\n",
        "        priors[idx] = samples_c.shape[0] / float(n_samples)"
      ],
      "execution_count": 27,
      "outputs": []
    },
    {
      "cell_type": "code",
      "metadata": {
        "id": "FRvjSNlk9lA3"
      },
      "source": [
        "def pdf(class_idx, x, mean, var):\n",
        "    mean, var = mean[class_idx], var[class_idx]\n",
        "    numerator = np.exp(- (x-mean)**2 / (2 * var))\n",
        "    denominator = np.sqrt(2 * np.pi * var)\n",
        "    return numerator / denominator"
      ],
      "execution_count": 25,
      "outputs": []
    },
    {
      "cell_type": "code",
      "metadata": {
        "id": "fIyV0HvS9o2a"
      },
      "source": [
        "def predict(self, samples, classes, priors, mean, var):\n",
        "    y_pred = []\n",
        "    for x in samples:\n",
        "        posteriors = []\n",
        "        for idx, c in enumerate(classes):\n",
        "            prior = np.log(priors[idx])\n",
        "            posterior = np.sum(np.log(self.pdf(idx, x, mean, var)))\n",
        "            posterior = prior + posterior\n",
        "            posteriors.append(posterior)\n",
        "        y_pred.append(classes[np.argmax(posteriors)])\n",
        "    return np.array(y_pred)"
      ],
      "execution_count": 26,
      "outputs": []
    },
    {
      "cell_type": "code",
      "metadata": {
        "id": "mdqt4gKE9slT"
      },
      "source": [
        ""
      ],
      "execution_count": null,
      "outputs": []
    }
  ]
}